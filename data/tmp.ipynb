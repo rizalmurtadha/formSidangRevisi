{
 "cells": [
  {
   "cell_type": "code",
   "execution_count": 1,
   "metadata": {},
   "outputs": [],
   "source": [
    "import joblib"
   ]
  },
  {
   "cell_type": "code",
   "execution_count": 2,
   "metadata": {},
   "outputs": [
    {
     "data": {
      "text/html": [
       "<div>\n",
       "<style scoped>\n",
       "    .dataframe tbody tr th:only-of-type {\n",
       "        vertical-align: middle;\n",
       "    }\n",
       "\n",
       "    .dataframe tbody tr th {\n",
       "        vertical-align: top;\n",
       "    }\n",
       "\n",
       "    .dataframe thead th {\n",
       "        text-align: right;\n",
       "    }\n",
       "</style>\n",
       "<table border=\"1\" class=\"dataframe\">\n",
       "  <thead>\n",
       "    <tr style=\"text-align: right;\">\n",
       "      <th></th>\n",
       "      <th>Nama</th>\n",
       "      <th>NIM</th>\n",
       "      <th>Pembimbing 1</th>\n",
       "      <th>Pembimbing 2</th>\n",
       "      <th>Penguji 1</th>\n",
       "      <th>Penguji 2</th>\n",
       "      <th>Judul</th>\n",
       "      <th>Lokasi</th>\n",
       "      <th>Password</th>\n",
       "    </tr>\n",
       "  </thead>\n",
       "  <tbody>\n",
       "    <tr>\n",
       "      <th>0</th>\n",
       "      <td>Isman Kurniawan</td>\n",
       "      <td>123456789</td>\n",
       "      <td>Isman Kurniawan</td>\n",
       "      <td>Isman Kurniawan</td>\n",
       "      <td>Isman Kurniawan</td>\n",
       "      <td>Isman Kurniawan</td>\n",
       "      <td>QSAR Studies</td>\n",
       "      <td>IF3.01.10</td>\n",
       "      <td>asdf12</td>\n",
       "    </tr>\n",
       "  </tbody>\n",
       "</table>\n",
       "</div>"
      ],
      "text/plain": [
       "              Nama        NIM     Pembimbing 1     Pembimbing 2  \\\n",
       "0  Isman Kurniawan  123456789  Isman Kurniawan  Isman Kurniawan   \n",
       "\n",
       "         Penguji 1        Penguji 2         Judul     Lokasi Password  \n",
       "0  Isman Kurniawan  Isman Kurniawan  QSAR Studies  IF3.01.10   asdf12  "
      ]
     },
     "execution_count": 2,
     "metadata": {},
     "output_type": "execute_result"
    }
   ],
   "source": [
    "data = joblib.load(\"schedule_init.p\")\n",
    "data"
   ]
  },
  {
   "cell_type": "code",
   "execution_count": 3,
   "metadata": {},
   "outputs": [
    {
     "data": {
      "text/html": [
       "<div>\n",
       "<style scoped>\n",
       "    .dataframe tbody tr th:only-of-type {\n",
       "        vertical-align: middle;\n",
       "    }\n",
       "\n",
       "    .dataframe tbody tr th {\n",
       "        vertical-align: top;\n",
       "    }\n",
       "\n",
       "    .dataframe thead th {\n",
       "        text-align: right;\n",
       "    }\n",
       "</style>\n",
       "<table border=\"1\" class=\"dataframe\">\n",
       "  <thead>\n",
       "    <tr style=\"text-align: right;\">\n",
       "      <th></th>\n",
       "      <th>Tanggal</th>\n",
       "      <th>NIM</th>\n",
       "      <th>Nama</th>\n",
       "      <th>Judul</th>\n",
       "      <th>Indeks</th>\n",
       "    </tr>\n",
       "  </thead>\n",
       "  <tbody>\n",
       "    <tr>\n",
       "      <th>0</th>\n",
       "      <td>2020-04-20</td>\n",
       "      <td>123456</td>\n",
       "      <td>Isman Kurniawan</td>\n",
       "      <td>QSAR Studies</td>\n",
       "      <td>A</td>\n",
       "    </tr>\n",
       "  </tbody>\n",
       "</table>\n",
       "</div>"
      ],
      "text/plain": [
       "      Tanggal     NIM             Nama         Judul Indeks\n",
       "0  2020-04-20  123456  Isman Kurniawan  QSAR Studies      A"
      ]
     },
     "execution_count": 3,
     "metadata": {},
     "output_type": "execute_result"
    }
   ],
   "source": [
    "recap = joblib.load(\"recap_init.p\")\n",
    "recap"
   ]
  },
  {
   "cell_type": "code",
   "execution_count": 4,
   "metadata": {},
   "outputs": [
    {
     "data": {
      "text/html": [
       "<div>\n",
       "<style scoped>\n",
       "    .dataframe tbody tr th:only-of-type {\n",
       "        vertical-align: middle;\n",
       "    }\n",
       "\n",
       "    .dataframe tbody tr th {\n",
       "        vertical-align: top;\n",
       "    }\n",
       "\n",
       "    .dataframe thead th {\n",
       "        text-align: right;\n",
       "    }\n",
       "</style>\n",
       "<table border=\"1\" class=\"dataframe\">\n",
       "  <thead>\n",
       "    <tr style=\"text-align: right;\">\n",
       "      <th></th>\n",
       "      <th>kode</th>\n",
       "      <th>nama</th>\n",
       "    </tr>\n",
       "  </thead>\n",
       "  <tbody>\n",
       "    <tr>\n",
       "      <th>0</th>\n",
       "      <td>ABW</td>\n",
       "      <td>Ir. ARI MOESRIAMI BARMAWI, M.Sc., Ph.D.</td>\n",
       "    </tr>\n",
       "    <tr>\n",
       "      <th>1</th>\n",
       "      <td>ADE</td>\n",
       "      <td>Dr. ADE ROMADHONY, S.T., M.T.</td>\n",
       "    </tr>\n",
       "    <tr>\n",
       "      <th>2</th>\n",
       "      <td>ADF</td>\n",
       "      <td>ANDITYA ARIFIANTO, S.T., M.T.</td>\n",
       "    </tr>\n",
       "    <tr>\n",
       "      <th>3</th>\n",
       "      <td>ATW</td>\n",
       "      <td>AGUNG TOTO WIBOWO, S.T., M.T., Ph.D.</td>\n",
       "    </tr>\n",
       "    <tr>\n",
       "      <th>4</th>\n",
       "      <td>BBD</td>\n",
       "      <td>BAMBANG ARI WAHYUDI, S.Kom., M.T.</td>\n",
       "    </tr>\n",
       "    <tr>\n",
       "      <th>...</th>\n",
       "      <td>...</td>\n",
       "      <td>...</td>\n",
       "    </tr>\n",
       "    <tr>\n",
       "      <th>111</th>\n",
       "      <td>SLL</td>\n",
       "      <td>SELLY MELIANA, M.Kom</td>\n",
       "    </tr>\n",
       "    <tr>\n",
       "      <th>112</th>\n",
       "      <td>UAI</td>\n",
       "      <td>BUNYAMIN</td>\n",
       "    </tr>\n",
       "    <tr>\n",
       "      <th>113</th>\n",
       "      <td>GMO</td>\n",
       "      <td>RIO GUNTUR UTOMO, S.T., M.T.</td>\n",
       "    </tr>\n",
       "    <tr>\n",
       "      <th>114</th>\n",
       "      <td>TFQ</td>\n",
       "      <td>AGUSTIAN TAUFIQ ASYHARI, B.Eng., Ph.D.</td>\n",
       "    </tr>\n",
       "    <tr>\n",
       "      <th>115</th>\n",
       "      <td>AULIA</td>\n",
       "      <td>AULIA KHAMAS</td>\n",
       "    </tr>\n",
       "  </tbody>\n",
       "</table>\n",
       "<p>116 rows × 2 columns</p>\n",
       "</div>"
      ],
      "text/plain": [
       "      kode                                     nama\n",
       "0      ABW  Ir. ARI MOESRIAMI BARMAWI, M.Sc., Ph.D.\n",
       "1      ADE            Dr. ADE ROMADHONY, S.T., M.T.\n",
       "2      ADF            ANDITYA ARIFIANTO, S.T., M.T.\n",
       "3      ATW     AGUNG TOTO WIBOWO, S.T., M.T., Ph.D.\n",
       "4      BBD        BAMBANG ARI WAHYUDI, S.Kom., M.T.\n",
       "..     ...                                      ...\n",
       "111    SLL                     SELLY MELIANA, M.Kom\n",
       "112    UAI                                 BUNYAMIN\n",
       "113    GMO             RIO GUNTUR UTOMO, S.T., M.T.\n",
       "114    TFQ   AGUSTIAN TAUFIQ ASYHARI, B.Eng., Ph.D.\n",
       "115  AULIA                             AULIA KHAMAS\n",
       "\n",
       "[116 rows x 2 columns]"
      ]
     },
     "execution_count": 4,
     "metadata": {},
     "output_type": "execute_result"
    }
   ],
   "source": [
    "lc = joblib.load(\"lec_code.p\")\n",
    "lc"
   ]
  },
  {
   "cell_type": "code",
   "execution_count": null,
   "metadata": {},
   "outputs": [],
   "source": []
  }
 ],
 "metadata": {
  "kernelspec": {
   "display_name": "Python 3",
   "language": "python",
   "name": "python3"
  },
  "language_info": {
   "codemirror_mode": {
    "name": "ipython",
    "version": 3
   },
   "file_extension": ".py",
   "mimetype": "text/x-python",
   "name": "python",
   "nbconvert_exporter": "python",
   "pygments_lexer": "ipython3",
   "version": "3.6.9"
  }
 },
 "nbformat": 4,
 "nbformat_minor": 2
}
